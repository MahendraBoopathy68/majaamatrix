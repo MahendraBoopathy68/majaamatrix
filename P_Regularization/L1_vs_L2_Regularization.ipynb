{
  "nbformat": 4,
  "nbformat_minor": 0,
  "metadata": {
    "colab": {
      "name": "L1 vs L2 Regularization.ipynb",
      "provenance": [],
      "collapsed_sections": []
    },
    "kernelspec": {
      "name": "python3",
      "display_name": "Python 3"
    }
  },
  "cells": [
    {
      "cell_type": "markdown",
      "metadata": {
        "id": "oFaQbDOV3Sh6"
      },
      "source": [
        "# Implementing L1 and L2 regularization using Sklearn"
      ]
    },
    {
      "cell_type": "markdown",
      "metadata": {
        "id": "x_laWN2F3cqM"
      },
      "source": [
        "https://www.geeksforgeeks.org/ml-implementing-l1-and-l2-regularization-using-sklearn/"
      ]
    },
    {
      "cell_type": "markdown",
      "metadata": {
        "id": "-45tOWgs3VEw"
      },
      "source": [
        "Prerequisites: L2 and L1 regularization\n",
        "\n",
        "This article aims to implement the L2 and L1 regularization for Linear regression using the Ridge and Lasso modules of the Sklearn library of Python."
      ]
    },
    {
      "cell_type": "markdown",
      "metadata": {
        "id": "94HcVPnM3W2e"
      },
      "source": [
        "Dataset – House prices dataset ."
      ]
    },
    {
      "cell_type": "code",
      "metadata": {
        "colab": {
          "base_uri": "https://localhost:8080/"
        },
        "id": "B_-B9VfN3jkC",
        "outputId": "d082a09f-261c-4e3d-ea6a-218a8f78b5d1"
      },
      "source": [
        "!wget https://raw.githubusercontent.com/Shreyas3108/house-price-prediction/master/kc_house_data.csv"
      ],
      "execution_count": null,
      "outputs": [
        {
          "output_type": "stream",
          "text": [
            "--2021-04-24 12:47:08--  https://raw.githubusercontent.com/Shreyas3108/house-price-prediction/master/kc_house_data.csv\n",
            "Resolving raw.githubusercontent.com (raw.githubusercontent.com)... 185.199.108.133, 185.199.110.133, 185.199.109.133, ...\n",
            "Connecting to raw.githubusercontent.com (raw.githubusercontent.com)|185.199.108.133|:443... connected.\n",
            "HTTP request sent, awaiting response... 200 OK\n",
            "Length: 2515206 (2.4M) [text/plain]\n",
            "Saving to: ‘kc_house_data.csv’\n",
            "\n",
            "kc_house_data.csv   100%[===================>]   2.40M  --.-KB/s    in 0.1s    \n",
            "\n",
            "2021-04-24 12:47:09 (18.5 MB/s) - ‘kc_house_data.csv’ saved [2515206/2515206]\n",
            "\n"
          ],
          "name": "stdout"
        }
      ]
    },
    {
      "cell_type": "markdown",
      "metadata": {
        "id": "HfPgvLqU3Z8-"
      },
      "source": [
        "Step 1: Importing the required libraries"
      ]
    },
    {
      "cell_type": "code",
      "metadata": {
        "id": "-9-b1Xzi3RCI"
      },
      "source": [
        "import pandas as pd \n",
        "import numpy as np \n",
        "import matplotlib.pyplot as plt \n",
        "from sklearn.linear_model import LinearRegression, Ridge, Lasso, ElasticNet\n",
        "from sklearn.model_selection import train_test_split, cross_val_score \n",
        "from statistics import mean \n",
        "from sklearn import preprocessing"
      ],
      "execution_count": null,
      "outputs": []
    },
    {
      "cell_type": "markdown",
      "metadata": {
        "id": "9JSlsJPs3tCy"
      },
      "source": [
        "Step 2: Loading and cleaning the Data"
      ]
    },
    {
      "cell_type": "code",
      "metadata": {
        "id": "I6gcC43D7n1c"
      },
      "source": [
        "# Changing the working location to the location of the data \n",
        "\n",
        "# Loading the data into a Pandas DataFrame \n",
        "data = pd.read_csv('kc_house_data.csv') "
      ],
      "execution_count": null,
      "outputs": []
    },
    {
      "cell_type": "code",
      "metadata": {
        "colab": {
          "base_uri": "https://localhost:8080/",
          "height": 422
        },
        "id": "uq_dyTRr7ojL",
        "outputId": "53c25970-abe3-4526-bc09-feba84698d85"
      },
      "source": [
        "data"
      ],
      "execution_count": null,
      "outputs": [
        {
          "output_type": "execute_result",
          "data": {
            "text/html": [
              "<div>\n",
              "<style scoped>\n",
              "    .dataframe tbody tr th:only-of-type {\n",
              "        vertical-align: middle;\n",
              "    }\n",
              "\n",
              "    .dataframe tbody tr th {\n",
              "        vertical-align: top;\n",
              "    }\n",
              "\n",
              "    .dataframe thead th {\n",
              "        text-align: right;\n",
              "    }\n",
              "</style>\n",
              "<table border=\"1\" class=\"dataframe\">\n",
              "  <thead>\n",
              "    <tr style=\"text-align: right;\">\n",
              "      <th></th>\n",
              "      <th>id</th>\n",
              "      <th>date</th>\n",
              "      <th>price</th>\n",
              "      <th>bedrooms</th>\n",
              "      <th>bathrooms</th>\n",
              "      <th>sqft_living</th>\n",
              "      <th>sqft_lot</th>\n",
              "      <th>floors</th>\n",
              "      <th>waterfront</th>\n",
              "      <th>view</th>\n",
              "      <th>condition</th>\n",
              "      <th>grade</th>\n",
              "      <th>sqft_above</th>\n",
              "      <th>sqft_basement</th>\n",
              "      <th>yr_built</th>\n",
              "      <th>yr_renovated</th>\n",
              "      <th>zipcode</th>\n",
              "      <th>lat</th>\n",
              "      <th>long</th>\n",
              "      <th>sqft_living15</th>\n",
              "      <th>sqft_lot15</th>\n",
              "    </tr>\n",
              "  </thead>\n",
              "  <tbody>\n",
              "    <tr>\n",
              "      <th>0</th>\n",
              "      <td>7129300520</td>\n",
              "      <td>20141013T000000</td>\n",
              "      <td>221900.0</td>\n",
              "      <td>3</td>\n",
              "      <td>1.00</td>\n",
              "      <td>1180</td>\n",
              "      <td>5650</td>\n",
              "      <td>1.0</td>\n",
              "      <td>0</td>\n",
              "      <td>0</td>\n",
              "      <td>3</td>\n",
              "      <td>7</td>\n",
              "      <td>1180</td>\n",
              "      <td>0</td>\n",
              "      <td>1955</td>\n",
              "      <td>0</td>\n",
              "      <td>98178</td>\n",
              "      <td>47.5112</td>\n",
              "      <td>-122.257</td>\n",
              "      <td>1340</td>\n",
              "      <td>5650</td>\n",
              "    </tr>\n",
              "    <tr>\n",
              "      <th>1</th>\n",
              "      <td>6414100192</td>\n",
              "      <td>20141209T000000</td>\n",
              "      <td>538000.0</td>\n",
              "      <td>3</td>\n",
              "      <td>2.25</td>\n",
              "      <td>2570</td>\n",
              "      <td>7242</td>\n",
              "      <td>2.0</td>\n",
              "      <td>0</td>\n",
              "      <td>0</td>\n",
              "      <td>3</td>\n",
              "      <td>7</td>\n",
              "      <td>2170</td>\n",
              "      <td>400</td>\n",
              "      <td>1951</td>\n",
              "      <td>1991</td>\n",
              "      <td>98125</td>\n",
              "      <td>47.7210</td>\n",
              "      <td>-122.319</td>\n",
              "      <td>1690</td>\n",
              "      <td>7639</td>\n",
              "    </tr>\n",
              "    <tr>\n",
              "      <th>2</th>\n",
              "      <td>5631500400</td>\n",
              "      <td>20150225T000000</td>\n",
              "      <td>180000.0</td>\n",
              "      <td>2</td>\n",
              "      <td>1.00</td>\n",
              "      <td>770</td>\n",
              "      <td>10000</td>\n",
              "      <td>1.0</td>\n",
              "      <td>0</td>\n",
              "      <td>0</td>\n",
              "      <td>3</td>\n",
              "      <td>6</td>\n",
              "      <td>770</td>\n",
              "      <td>0</td>\n",
              "      <td>1933</td>\n",
              "      <td>0</td>\n",
              "      <td>98028</td>\n",
              "      <td>47.7379</td>\n",
              "      <td>-122.233</td>\n",
              "      <td>2720</td>\n",
              "      <td>8062</td>\n",
              "    </tr>\n",
              "    <tr>\n",
              "      <th>3</th>\n",
              "      <td>2487200875</td>\n",
              "      <td>20141209T000000</td>\n",
              "      <td>604000.0</td>\n",
              "      <td>4</td>\n",
              "      <td>3.00</td>\n",
              "      <td>1960</td>\n",
              "      <td>5000</td>\n",
              "      <td>1.0</td>\n",
              "      <td>0</td>\n",
              "      <td>0</td>\n",
              "      <td>5</td>\n",
              "      <td>7</td>\n",
              "      <td>1050</td>\n",
              "      <td>910</td>\n",
              "      <td>1965</td>\n",
              "      <td>0</td>\n",
              "      <td>98136</td>\n",
              "      <td>47.5208</td>\n",
              "      <td>-122.393</td>\n",
              "      <td>1360</td>\n",
              "      <td>5000</td>\n",
              "    </tr>\n",
              "    <tr>\n",
              "      <th>4</th>\n",
              "      <td>1954400510</td>\n",
              "      <td>20150218T000000</td>\n",
              "      <td>510000.0</td>\n",
              "      <td>3</td>\n",
              "      <td>2.00</td>\n",
              "      <td>1680</td>\n",
              "      <td>8080</td>\n",
              "      <td>1.0</td>\n",
              "      <td>0</td>\n",
              "      <td>0</td>\n",
              "      <td>3</td>\n",
              "      <td>8</td>\n",
              "      <td>1680</td>\n",
              "      <td>0</td>\n",
              "      <td>1987</td>\n",
              "      <td>0</td>\n",
              "      <td>98074</td>\n",
              "      <td>47.6168</td>\n",
              "      <td>-122.045</td>\n",
              "      <td>1800</td>\n",
              "      <td>7503</td>\n",
              "    </tr>\n",
              "    <tr>\n",
              "      <th>...</th>\n",
              "      <td>...</td>\n",
              "      <td>...</td>\n",
              "      <td>...</td>\n",
              "      <td>...</td>\n",
              "      <td>...</td>\n",
              "      <td>...</td>\n",
              "      <td>...</td>\n",
              "      <td>...</td>\n",
              "      <td>...</td>\n",
              "      <td>...</td>\n",
              "      <td>...</td>\n",
              "      <td>...</td>\n",
              "      <td>...</td>\n",
              "      <td>...</td>\n",
              "      <td>...</td>\n",
              "      <td>...</td>\n",
              "      <td>...</td>\n",
              "      <td>...</td>\n",
              "      <td>...</td>\n",
              "      <td>...</td>\n",
              "      <td>...</td>\n",
              "    </tr>\n",
              "    <tr>\n",
              "      <th>21608</th>\n",
              "      <td>263000018</td>\n",
              "      <td>20140521T000000</td>\n",
              "      <td>360000.0</td>\n",
              "      <td>3</td>\n",
              "      <td>2.50</td>\n",
              "      <td>1530</td>\n",
              "      <td>1131</td>\n",
              "      <td>3.0</td>\n",
              "      <td>0</td>\n",
              "      <td>0</td>\n",
              "      <td>3</td>\n",
              "      <td>8</td>\n",
              "      <td>1530</td>\n",
              "      <td>0</td>\n",
              "      <td>2009</td>\n",
              "      <td>0</td>\n",
              "      <td>98103</td>\n",
              "      <td>47.6993</td>\n",
              "      <td>-122.346</td>\n",
              "      <td>1530</td>\n",
              "      <td>1509</td>\n",
              "    </tr>\n",
              "    <tr>\n",
              "      <th>21609</th>\n",
              "      <td>6600060120</td>\n",
              "      <td>20150223T000000</td>\n",
              "      <td>400000.0</td>\n",
              "      <td>4</td>\n",
              "      <td>2.50</td>\n",
              "      <td>2310</td>\n",
              "      <td>5813</td>\n",
              "      <td>2.0</td>\n",
              "      <td>0</td>\n",
              "      <td>0</td>\n",
              "      <td>3</td>\n",
              "      <td>8</td>\n",
              "      <td>2310</td>\n",
              "      <td>0</td>\n",
              "      <td>2014</td>\n",
              "      <td>0</td>\n",
              "      <td>98146</td>\n",
              "      <td>47.5107</td>\n",
              "      <td>-122.362</td>\n",
              "      <td>1830</td>\n",
              "      <td>7200</td>\n",
              "    </tr>\n",
              "    <tr>\n",
              "      <th>21610</th>\n",
              "      <td>1523300141</td>\n",
              "      <td>20140623T000000</td>\n",
              "      <td>402101.0</td>\n",
              "      <td>2</td>\n",
              "      <td>0.75</td>\n",
              "      <td>1020</td>\n",
              "      <td>1350</td>\n",
              "      <td>2.0</td>\n",
              "      <td>0</td>\n",
              "      <td>0</td>\n",
              "      <td>3</td>\n",
              "      <td>7</td>\n",
              "      <td>1020</td>\n",
              "      <td>0</td>\n",
              "      <td>2009</td>\n",
              "      <td>0</td>\n",
              "      <td>98144</td>\n",
              "      <td>47.5944</td>\n",
              "      <td>-122.299</td>\n",
              "      <td>1020</td>\n",
              "      <td>2007</td>\n",
              "    </tr>\n",
              "    <tr>\n",
              "      <th>21611</th>\n",
              "      <td>291310100</td>\n",
              "      <td>20150116T000000</td>\n",
              "      <td>400000.0</td>\n",
              "      <td>3</td>\n",
              "      <td>2.50</td>\n",
              "      <td>1600</td>\n",
              "      <td>2388</td>\n",
              "      <td>2.0</td>\n",
              "      <td>0</td>\n",
              "      <td>0</td>\n",
              "      <td>3</td>\n",
              "      <td>8</td>\n",
              "      <td>1600</td>\n",
              "      <td>0</td>\n",
              "      <td>2004</td>\n",
              "      <td>0</td>\n",
              "      <td>98027</td>\n",
              "      <td>47.5345</td>\n",
              "      <td>-122.069</td>\n",
              "      <td>1410</td>\n",
              "      <td>1287</td>\n",
              "    </tr>\n",
              "    <tr>\n",
              "      <th>21612</th>\n",
              "      <td>1523300157</td>\n",
              "      <td>20141015T000000</td>\n",
              "      <td>325000.0</td>\n",
              "      <td>2</td>\n",
              "      <td>0.75</td>\n",
              "      <td>1020</td>\n",
              "      <td>1076</td>\n",
              "      <td>2.0</td>\n",
              "      <td>0</td>\n",
              "      <td>0</td>\n",
              "      <td>3</td>\n",
              "      <td>7</td>\n",
              "      <td>1020</td>\n",
              "      <td>0</td>\n",
              "      <td>2008</td>\n",
              "      <td>0</td>\n",
              "      <td>98144</td>\n",
              "      <td>47.5941</td>\n",
              "      <td>-122.299</td>\n",
              "      <td>1020</td>\n",
              "      <td>1357</td>\n",
              "    </tr>\n",
              "  </tbody>\n",
              "</table>\n",
              "<p>21613 rows × 21 columns</p>\n",
              "</div>"
            ],
            "text/plain": [
              "               id             date  ...  sqft_living15  sqft_lot15\n",
              "0      7129300520  20141013T000000  ...           1340        5650\n",
              "1      6414100192  20141209T000000  ...           1690        7639\n",
              "2      5631500400  20150225T000000  ...           2720        8062\n",
              "3      2487200875  20141209T000000  ...           1360        5000\n",
              "4      1954400510  20150218T000000  ...           1800        7503\n",
              "...           ...              ...  ...            ...         ...\n",
              "21608   263000018  20140521T000000  ...           1530        1509\n",
              "21609  6600060120  20150223T000000  ...           1830        7200\n",
              "21610  1523300141  20140623T000000  ...           1020        2007\n",
              "21611   291310100  20150116T000000  ...           1410        1287\n",
              "21612  1523300157  20141015T000000  ...           1020        1357\n",
              "\n",
              "[21613 rows x 21 columns]"
            ]
          },
          "metadata": {
            "tags": []
          },
          "execution_count": 4
        }
      ]
    },
    {
      "cell_type": "code",
      "metadata": {
        "colab": {
          "base_uri": "https://localhost:8080/"
        },
        "id": "vism9WxS8HSp",
        "outputId": "f9e1a9d2-bbcd-474d-d765-d77d8c92d8c8"
      },
      "source": [
        "data.shape"
      ],
      "execution_count": null,
      "outputs": [
        {
          "output_type": "execute_result",
          "data": {
            "text/plain": [
              "(21613, 21)"
            ]
          },
          "metadata": {
            "tags": []
          },
          "execution_count": 5
        }
      ]
    },
    {
      "cell_type": "code",
      "metadata": {
        "id": "L6CGq6cV3kaZ"
      },
      "source": [
        "# Dropping the numerically non-sensical variables \n",
        "dropColumns = ['id', 'date', 'zipcode'] \n",
        "data = data.drop(dropColumns, axis = 1) \n",
        "data = data[0:1000]\n",
        "\n",
        "# Separating the dependent and independent variables \n",
        "y = data['price'] \n",
        "X = data.drop('price', axis = 1) \n",
        "\n",
        "#x = X.values #returns a numpy array\n",
        "#min_max_scaler = preprocessing.MinMaxScaler()\n",
        "#x_scaled = min_max_scaler.fit_transform(x)\n",
        "#X = pd.DataFrame(x_scaled)\n",
        "\n",
        "# Dividing the data into training and testing set \n",
        "X_train, X_test, y_train, y_test = train_test_split(X, y, test_size = 0.25) "
      ],
      "execution_count": null,
      "outputs": []
    },
    {
      "cell_type": "code",
      "metadata": {
        "colab": {
          "base_uri": "https://localhost:8080/",
          "height": 304
        },
        "id": "xJvNNwEe8m6_",
        "outputId": "ea151d67-7f34-4e8c-f5ec-1cc8a8f32e85"
      },
      "source": [
        "X.describe()"
      ],
      "execution_count": null,
      "outputs": [
        {
          "output_type": "execute_result",
          "data": {
            "text/html": [
              "<div>\n",
              "<style scoped>\n",
              "    .dataframe tbody tr th:only-of-type {\n",
              "        vertical-align: middle;\n",
              "    }\n",
              "\n",
              "    .dataframe tbody tr th {\n",
              "        vertical-align: top;\n",
              "    }\n",
              "\n",
              "    .dataframe thead th {\n",
              "        text-align: right;\n",
              "    }\n",
              "</style>\n",
              "<table border=\"1\" class=\"dataframe\">\n",
              "  <thead>\n",
              "    <tr style=\"text-align: right;\">\n",
              "      <th></th>\n",
              "      <th>bedrooms</th>\n",
              "      <th>bathrooms</th>\n",
              "      <th>sqft_living</th>\n",
              "      <th>sqft_lot</th>\n",
              "      <th>floors</th>\n",
              "      <th>waterfront</th>\n",
              "      <th>view</th>\n",
              "      <th>condition</th>\n",
              "      <th>grade</th>\n",
              "      <th>sqft_above</th>\n",
              "      <th>sqft_basement</th>\n",
              "      <th>yr_built</th>\n",
              "      <th>yr_renovated</th>\n",
              "      <th>lat</th>\n",
              "      <th>long</th>\n",
              "      <th>sqft_living15</th>\n",
              "      <th>sqft_lot15</th>\n",
              "    </tr>\n",
              "  </thead>\n",
              "  <tbody>\n",
              "    <tr>\n",
              "      <th>count</th>\n",
              "      <td>1000.000000</td>\n",
              "      <td>1000.000000</td>\n",
              "      <td>1000.000000</td>\n",
              "      <td>1000.000000</td>\n",
              "      <td>1000.000000</td>\n",
              "      <td>1000.000000</td>\n",
              "      <td>1000.000000</td>\n",
              "      <td>1000.000000</td>\n",
              "      <td>1000.00000</td>\n",
              "      <td>1000.000000</td>\n",
              "      <td>1000.000000</td>\n",
              "      <td>1000.000000</td>\n",
              "      <td>1000.00000</td>\n",
              "      <td>1000.000000</td>\n",
              "      <td>1000.000000</td>\n",
              "      <td>1000.000000</td>\n",
              "      <td>1000.000000</td>\n",
              "    </tr>\n",
              "    <tr>\n",
              "      <th>mean</th>\n",
              "      <td>3.349000</td>\n",
              "      <td>2.045750</td>\n",
              "      <td>2051.196000</td>\n",
              "      <td>14702.085000</td>\n",
              "      <td>1.446500</td>\n",
              "      <td>0.008000</td>\n",
              "      <td>0.237000</td>\n",
              "      <td>3.464000</td>\n",
              "      <td>7.60600</td>\n",
              "      <td>1750.333000</td>\n",
              "      <td>300.863000</td>\n",
              "      <td>1969.049000</td>\n",
              "      <td>81.74900</td>\n",
              "      <td>47.549493</td>\n",
              "      <td>-122.207472</td>\n",
              "      <td>1987.077000</td>\n",
              "      <td>13496.874000</td>\n",
              "    </tr>\n",
              "    <tr>\n",
              "      <th>std</th>\n",
              "      <td>0.852012</td>\n",
              "      <td>0.721623</td>\n",
              "      <td>887.929222</td>\n",
              "      <td>28961.030775</td>\n",
              "      <td>0.517354</td>\n",
              "      <td>0.089129</td>\n",
              "      <td>0.765125</td>\n",
              "      <td>0.689332</td>\n",
              "      <td>1.16022</td>\n",
              "      <td>790.077476</td>\n",
              "      <td>450.898196</td>\n",
              "      <td>28.190873</td>\n",
              "      <td>395.57825</td>\n",
              "      <td>0.141670</td>\n",
              "      <td>0.139509</td>\n",
              "      <td>670.439353</td>\n",
              "      <td>25093.829486</td>\n",
              "    </tr>\n",
              "    <tr>\n",
              "      <th>min</th>\n",
              "      <td>0.000000</td>\n",
              "      <td>0.000000</td>\n",
              "      <td>380.000000</td>\n",
              "      <td>649.000000</td>\n",
              "      <td>1.000000</td>\n",
              "      <td>0.000000</td>\n",
              "      <td>0.000000</td>\n",
              "      <td>1.000000</td>\n",
              "      <td>4.00000</td>\n",
              "      <td>380.000000</td>\n",
              "      <td>0.000000</td>\n",
              "      <td>1900.000000</td>\n",
              "      <td>0.00000</td>\n",
              "      <td>47.177500</td>\n",
              "      <td>-122.490000</td>\n",
              "      <td>830.000000</td>\n",
              "      <td>660.000000</td>\n",
              "    </tr>\n",
              "    <tr>\n",
              "      <th>25%</th>\n",
              "      <td>3.000000</td>\n",
              "      <td>1.500000</td>\n",
              "      <td>1407.500000</td>\n",
              "      <td>5428.500000</td>\n",
              "      <td>1.000000</td>\n",
              "      <td>0.000000</td>\n",
              "      <td>0.000000</td>\n",
              "      <td>3.000000</td>\n",
              "      <td>7.00000</td>\n",
              "      <td>1190.000000</td>\n",
              "      <td>0.000000</td>\n",
              "      <td>1952.000000</td>\n",
              "      <td>0.00000</td>\n",
              "      <td>47.442875</td>\n",
              "      <td>-122.322250</td>\n",
              "      <td>1490.000000</td>\n",
              "      <td>5404.500000</td>\n",
              "    </tr>\n",
              "    <tr>\n",
              "      <th>50%</th>\n",
              "      <td>3.000000</td>\n",
              "      <td>2.000000</td>\n",
              "      <td>1900.000000</td>\n",
              "      <td>8045.000000</td>\n",
              "      <td>1.000000</td>\n",
              "      <td>0.000000</td>\n",
              "      <td>0.000000</td>\n",
              "      <td>3.000000</td>\n",
              "      <td>7.00000</td>\n",
              "      <td>1540.000000</td>\n",
              "      <td>0.000000</td>\n",
              "      <td>1974.000000</td>\n",
              "      <td>0.00000</td>\n",
              "      <td>47.563500</td>\n",
              "      <td>-122.218000</td>\n",
              "      <td>1850.000000</td>\n",
              "      <td>7995.000000</td>\n",
              "    </tr>\n",
              "    <tr>\n",
              "      <th>75%</th>\n",
              "      <td>4.000000</td>\n",
              "      <td>2.500000</td>\n",
              "      <td>2472.500000</td>\n",
              "      <td>11489.250000</td>\n",
              "      <td>2.000000</td>\n",
              "      <td>0.000000</td>\n",
              "      <td>0.000000</td>\n",
              "      <td>4.000000</td>\n",
              "      <td>8.00000</td>\n",
              "      <td>2132.500000</td>\n",
              "      <td>580.000000</td>\n",
              "      <td>1992.000000</td>\n",
              "      <td>0.00000</td>\n",
              "      <td>47.673400</td>\n",
              "      <td>-122.118000</td>\n",
              "      <td>2360.000000</td>\n",
              "      <td>10403.000000</td>\n",
              "    </tr>\n",
              "    <tr>\n",
              "      <th>max</th>\n",
              "      <td>7.000000</td>\n",
              "      <td>5.000000</td>\n",
              "      <td>6070.000000</td>\n",
              "      <td>315374.000000</td>\n",
              "      <td>3.500000</td>\n",
              "      <td>1.000000</td>\n",
              "      <td>4.000000</td>\n",
              "      <td>5.000000</td>\n",
              "      <td>12.00000</td>\n",
              "      <td>6070.000000</td>\n",
              "      <td>2060.000000</td>\n",
              "      <td>2015.000000</td>\n",
              "      <td>2014.00000</td>\n",
              "      <td>47.777600</td>\n",
              "      <td>-121.709000</td>\n",
              "      <td>4760.000000</td>\n",
              "      <td>233971.000000</td>\n",
              "    </tr>\n",
              "  </tbody>\n",
              "</table>\n",
              "</div>"
            ],
            "text/plain": [
              "          bedrooms    bathrooms  ...  sqft_living15     sqft_lot15\n",
              "count  1000.000000  1000.000000  ...    1000.000000    1000.000000\n",
              "mean      3.349000     2.045750  ...    1987.077000   13496.874000\n",
              "std       0.852012     0.721623  ...     670.439353   25093.829486\n",
              "min       0.000000     0.000000  ...     830.000000     660.000000\n",
              "25%       3.000000     1.500000  ...    1490.000000    5404.500000\n",
              "50%       3.000000     2.000000  ...    1850.000000    7995.000000\n",
              "75%       4.000000     2.500000  ...    2360.000000   10403.000000\n",
              "max       7.000000     5.000000  ...    4760.000000  233971.000000\n",
              "\n",
              "[8 rows x 17 columns]"
            ]
          },
          "metadata": {
            "tags": []
          },
          "execution_count": 7
        }
      ]
    },
    {
      "cell_type": "markdown",
      "metadata": {
        "id": "Ac4CMr033yt8"
      },
      "source": [
        "Step 3: Building and evaluating the different models"
      ]
    },
    {
      "cell_type": "markdown",
      "metadata": {
        "id": "8RxfXzS631Zs"
      },
      "source": [
        "a) Linear Regression:"
      ]
    },
    {
      "cell_type": "code",
      "metadata": {
        "colab": {
          "base_uri": "https://localhost:8080/"
        },
        "id": "p8YOuoKs3usF",
        "outputId": "e6b38c2e-6153-4944-af45-69e76e8e2390"
      },
      "source": [
        "# Bulding and fitting the Linear Regression model \n",
        "linearModel = LinearRegression() \n",
        "linearModel.fit(X_train, y_train) \n",
        "\n",
        "# Evaluating the Linear Regression model \n",
        "print(linearModel.score(X_train, y_train)) \n",
        "print(linearModel.score(X_test, y_test)) "
      ],
      "execution_count": null,
      "outputs": [
        {
          "output_type": "stream",
          "text": [
            "0.7353027781854686\n",
            "0.6394356839702168\n"
          ],
          "name": "stdout"
        }
      ]
    },
    {
      "cell_type": "markdown",
      "metadata": {
        "id": "mlCBfNAt35Sz"
      },
      "source": [
        "b) Ridge(L2) Regression:"
      ]
    },
    {
      "cell_type": "code",
      "metadata": {
        "colab": {
          "base_uri": "https://localhost:8080/"
        },
        "id": "1abNnZbM32wM",
        "outputId": "25a66b31-d1a3-44d3-f101-22c5251ac60e"
      },
      "source": [
        "# List to maintain the different cross-validation scores \n",
        "cross_val_scores_ridge = [] \n",
        "\n",
        "# List to maintain the different values of alpha \n",
        "alpha = [] \n",
        "# Loop to compute the different values of cross-validation scores \n",
        "for i in range(-3, 3): \n",
        "\tridgeModel = Ridge(alpha = 10**(-i)) \n",
        "\tridgeModel.fit(X_train, y_train) \n",
        "\tscores = cross_val_score(ridgeModel, X, y, cv = 10) \n",
        "\tavg_cross_val_score = mean(scores)*100\n",
        "\tcross_val_scores_ridge.append(avg_cross_val_score) \n",
        "\talpha.append(10**(-i)) \n",
        "\n",
        "# Loop to print the different values of cross-validation scores \n",
        "for i in range(0, len(alpha)): \n",
        "\tprint(str(alpha[i])+' : '+str(cross_val_scores_ridge[i])) \n"
      ],
      "execution_count": null,
      "outputs": [
        {
          "output_type": "stream",
          "text": [
            "1000 : 59.66500880082617\n",
            "100 : 64.47048672957649\n",
            "10 : 68.479528074744\n",
            "1 : 69.70370353668177\n",
            "0.1 : 69.53735661949966\n",
            "0.01 : 69.50521414978054\n"
          ],
          "name": "stdout"
        }
      ]
    },
    {
      "cell_type": "code",
      "metadata": {
        "colab": {
          "base_uri": "https://localhost:8080/"
        },
        "id": "96QXzjk-9PX3",
        "outputId": "a3bf3f98-6e63-4f23-a431-820a253acb2b"
      },
      "source": [
        "# List to maintain the different cross-validation scores \n",
        "cross_val_scores_ridge = [] \n",
        "\n",
        "# List to maintain the different values of alpha \n",
        "alpha = [] \n",
        "\n",
        "# Loop to compute the different values of cross-validation scores \n",
        "for i in range(1, 9): \n",
        "\tridgeModel = Ridge(alpha = i * 0.25) \n",
        "\tridgeModel.fit(X_train, y_train) \n",
        "\tscores = cross_val_score(ridgeModel, X, y, cv = 10) \n",
        "\tavg_cross_val_score = mean(scores)*100\n",
        "\tcross_val_scores_ridge.append(avg_cross_val_score) \n",
        "\talpha.append(i * 0.25) \n",
        "\n",
        "# Loop to print the different values of cross-validation scores \n",
        "for i in range(0, len(alpha)): \n",
        "\tprint(str(alpha[i])+' : '+str(cross_val_scores_ridge[i])) \n"
      ],
      "execution_count": null,
      "outputs": [
        {
          "output_type": "stream",
          "text": [
            "0.25 : 69.58319612284247\n",
            "0.5 : 69.6411188378246\n",
            "0.75 : 69.68003797194939\n",
            "1.0 : 69.70370353668177\n",
            "1.25 : 69.71504320492447\n",
            "1.5 : 69.71636652168027\n",
            "1.75 : 69.70951254659924\n",
            "2.0 : 69.6959581425075\n"
          ],
          "name": "stdout"
        }
      ]
    },
    {
      "cell_type": "code",
      "metadata": {
        "colab": {
          "base_uri": "https://localhost:8080/"
        },
        "id": "mjcXf4pi454p",
        "outputId": "93c08b44-4720-4800-8ab2-d6f4184ad736"
      },
      "source": [
        "# Building and fitting the Ridge Regression model \n",
        "ridgeModelChosen = Ridge(alpha = 1.5) \n",
        "ridgeModelChosen.fit(X_train, y_train) \n",
        "\n",
        "# Evaluating the Ridge Regression model \n",
        "\n",
        "print(ridgeModelChosen.score(X_train, y_train)) \n",
        "print(ridgeModelChosen.score(X_test, y_test)) "
      ],
      "execution_count": null,
      "outputs": [
        {
          "output_type": "stream",
          "text": [
            "0.7326360701243873\n",
            "0.6595529000248797\n"
          ],
          "name": "stdout"
        }
      ]
    },
    {
      "cell_type": "markdown",
      "metadata": {
        "id": "3M0i25QS6JYh"
      },
      "source": [
        "c) Lasso(L1) Regression:"
      ]
    },
    {
      "cell_type": "code",
      "metadata": {
        "colab": {
          "base_uri": "https://localhost:8080/"
        },
        "id": "vgzGztue_Whi",
        "outputId": "5e6b466f-b4ec-403a-9d4c-cdf04fa5426a"
      },
      "source": [
        "# List to maintain the cross-validation scores \n",
        "cross_val_scores_lasso = [] \n",
        "\n",
        "# List to maintain the different values of Lambda \n",
        "Lambda = [] \n",
        "\n",
        "# Loop to compute the cross-validation scores \n",
        "for i in range(-3, 3): \n",
        "\tlassoModel = Lasso(alpha = 10**(-i), tol = 0.0925) \n",
        "\tlassoModel.fit(X_train, y_train) \n",
        "\tscores = cross_val_score(lassoModel, X, y, cv = 10) \n",
        "\tavg_cross_val_score = mean(scores)*100\n",
        "\tcross_val_scores_lasso.append(avg_cross_val_score) \n",
        "\tLambda.append(10**(-i)) \n",
        "\n",
        "# Loop to print the different values of cross-validation scores \n",
        "for i in range(-3,3): \n",
        "\tprint(str(10**(-i))+' : '+str(cross_val_scores_lasso[i])) "
      ],
      "execution_count": null,
      "outputs": [
        {
          "output_type": "stream",
          "text": [
            "/usr/local/lib/python3.7/dist-packages/sklearn/linear_model/_coordinate_descent.py:476: ConvergenceWarning: Objective did not converge. You might want to increase the number of iterations. Duality gap: 13728372092491.691, tolerance: 9157626018377.758\n",
            "  positive)\n"
          ],
          "name": "stderr"
        },
        {
          "output_type": "stream",
          "text": [
            "1000 : 69.50196203208064\n",
            "100 : 69.50146567359988\n",
            "10 : 69.50141601240807\n",
            "1 : 69.60518608218402\n",
            "0.1 : 69.5522925898255\n",
            "0.01 : 69.50690065161872\n"
          ],
          "name": "stdout"
        }
      ]
    },
    {
      "cell_type": "code",
      "metadata": {
        "colab": {
          "base_uri": "https://localhost:8080/"
        },
        "id": "f-aDykge6ItT",
        "outputId": "af92b1ab-28d6-49c7-a484-c77aafce618e"
      },
      "source": [
        "# List to maintain the cross-validation scores \n",
        "cross_val_scores_lasso = [] \n",
        "\n",
        "# List to maintain the different values of Lambda \n",
        "Lambda = [] \n",
        "\n",
        "# Loop to compute the cross-validation scores \n",
        "for i in range(1, 9): \n",
        "\tlassoModel = Lasso(alpha = i * 0.25, tol = 0.0925) \n",
        "\tlassoModel.fit(X_train, y_train) \n",
        "\tscores = cross_val_score(lassoModel, X, y, cv = 10) \n",
        "\tavg_cross_val_score = mean(scores)*100\n",
        "\tcross_val_scores_lasso.append(avg_cross_val_score) \n",
        "\tLambda.append(i * 0.25) \n",
        "\n",
        "# Loop to print the different values of cross-validation scores \n",
        "for i in range(0, len(alpha)): \n",
        "\tprint(str(i * 0.25)+' : '+str(cross_val_scores_lasso[i])) "
      ],
      "execution_count": null,
      "outputs": [
        {
          "output_type": "stream",
          "text": [
            "0.0 : 69.50154842987843\n",
            "0.25 : 69.50168633414087\n",
            "0.5 : 69.50182420312663\n",
            "0.75 : 69.50196203208064\n",
            "1.0 : 69.50209983021243\n",
            "1.25 : 69.50223759724412\n",
            "1.5 : 69.50237531545588\n",
            "1.75 : 69.50251302080225\n"
          ],
          "name": "stdout"
        }
      ]
    },
    {
      "cell_type": "code",
      "metadata": {
        "colab": {
          "base_uri": "https://localhost:8080/"
        },
        "id": "BhZpKi7d6Mub",
        "outputId": "808eeff9-694e-4460-d3bd-a3e97b24a6ef"
      },
      "source": [
        "# Building and fitting the Lasso Regression Model \n",
        "lassoModelChosen = Lasso(alpha = 10, tol = 0.0925) \n",
        "lassoModelChosen.fit(X_train, y_train) \n",
        "# Evaluating the Lasso Regression model \n",
        "print(lassoModelChosen.score(X_train, y_train)) \n",
        "print(lassoModelChosen.score(X_test, y_test)) \n"
      ],
      "execution_count": null,
      "outputs": [
        {
          "output_type": "stream",
          "text": [
            "0.7353025215741897\n",
            "0.6396786729454891\n"
          ],
          "name": "stdout"
        }
      ]
    },
    {
      "cell_type": "code",
      "metadata": {
        "colab": {
          "base_uri": "https://localhost:8080/"
        },
        "id": "DbBr-Szb6nUI",
        "outputId": "aba42e61-ca8c-4a32-e327-0cf8fb2faeab"
      },
      "source": [
        "linearModel.coef_"
      ],
      "execution_count": null,
      "outputs": [
        {
          "output_type": "execute_result",
          "data": {
            "text/plain": [
              "array([-1.44497950e+04,  1.38496743e+04,  8.81349435e+01,  4.24802063e-01,\n",
              "        2.88113523e+04,  8.87210782e+05,  6.43304633e+04,  2.05015788e+04,\n",
              "        8.81853360e+04,  4.31976478e+01,  4.49372956e+01, -2.69167977e+03,\n",
              "        8.00126785e+01,  5.37085269e+05,  3.93648814e+04,  6.76972833e+01,\n",
              "       -9.76703943e-01])"
            ]
          },
          "metadata": {
            "tags": []
          },
          "execution_count": 17
        }
      ]
    },
    {
      "cell_type": "code",
      "metadata": {
        "colab": {
          "base_uri": "https://localhost:8080/"
        },
        "id": "PfgiVgXW7ZTc",
        "outputId": "2a8e912c-a6dd-4c55-9248-88c2163b5a6d"
      },
      "source": [
        "ridgeModelChosen.coef_"
      ],
      "execution_count": null,
      "outputs": [
        {
          "output_type": "execute_result",
          "data": {
            "text/plain": [
              "array([-1.69560604e+04,  1.61221198e+04,  8.84305805e+01,  4.19317845e-01,\n",
              "        2.97623623e+04,  6.77706772e+05,  7.30587860e+04,  2.00900060e+04,\n",
              "        8.83034078e+04,  4.13687763e+01,  4.70617452e+01, -2.75368988e+03,\n",
              "        7.84571316e+01,  4.77693573e+05,  2.40789126e+04,  7.06420110e+01,\n",
              "       -8.99591597e-01])"
            ]
          },
          "metadata": {
            "tags": []
          },
          "execution_count": 18
        }
      ]
    },
    {
      "cell_type": "code",
      "metadata": {
        "colab": {
          "base_uri": "https://localhost:8080/"
        },
        "id": "TdMW6JoW7efZ",
        "outputId": "1f87edcc-6c08-4b7b-e989-9673f5d63658"
      },
      "source": [
        "lassoModelChosen.coef_"
      ],
      "execution_count": null,
      "outputs": [
        {
          "output_type": "execute_result",
          "data": {
            "text/plain": [
              "array([-1.44480410e+04,  1.38197065e+04,  2.51658730e+02,  4.24901474e-01,\n",
              "        2.87521576e+04,  8.85696280e+05,  6.43576268e+04,  2.04672398e+04,\n",
              "        8.81534115e+04, -1.20284561e+02, -1.18576949e+02, -2.69008703e+03,\n",
              "        8.00157449e+01,  5.36466956e+05,  3.83579451e+04,  6.77899156e+01,\n",
              "       -9.75336607e-01])"
            ]
          },
          "metadata": {
            "tags": []
          },
          "execution_count": 24
        }
      ]
    },
    {
      "cell_type": "code",
      "metadata": {
        "colab": {
          "base_uri": "https://localhost:8080/"
        },
        "id": "H_xB7D8f74yd",
        "outputId": "da15a463-69cb-405e-e54a-469ea836fe7c"
      },
      "source": [
        "np.sum(abs(0-linearModel.coef_))"
      ],
      "execution_count": null,
      "outputs": [
        {
          "output_type": "execute_result",
          "data": {
            "text/plain": [
              "1696806.1928659773"
            ]
          },
          "metadata": {
            "tags": []
          },
          "execution_count": 20
        }
      ]
    },
    {
      "cell_type": "code",
      "metadata": {
        "colab": {
          "base_uri": "https://localhost:8080/"
        },
        "id": "DQ1sTu0H74Zw",
        "outputId": "000bd54b-876b-4dba-b30f-0ba31ab16504"
      },
      "source": [
        "np.sum(abs(0-ridgeModelChosen.coef_)) "
      ],
      "execution_count": null,
      "outputs": [
        {
          "output_type": "execute_result",
          "data": {
            "text/plain": [
              "1426852.9686242014"
            ]
          },
          "metadata": {
            "tags": []
          },
          "execution_count": 21
        }
      ]
    },
    {
      "cell_type": "code",
      "metadata": {
        "colab": {
          "base_uri": "https://localhost:8080/"
        },
        "id": "ctVljbrs7hCj",
        "outputId": "b2410f8c-c38a-43d0-c22a-e77f3c39e9c7"
      },
      "source": [
        "np.sum(abs(0-lassoModelChosen.coef_)) "
      ],
      "execution_count": null,
      "outputs": [
        {
          "output_type": "execute_result",
          "data": {
            "text/plain": [
              "1693849.177891887"
            ]
          },
          "metadata": {
            "tags": []
          },
          "execution_count": 25
        }
      ]
    },
    {
      "cell_type": "markdown",
      "metadata": {
        "id": "Ahqu3IEw8Mr5"
      },
      "source": [
        "Step 4: Comparing and Visualizing the results"
      ]
    },
    {
      "cell_type": "code",
      "metadata": {
        "colab": {
          "base_uri": "https://localhost:8080/"
        },
        "id": "7yi20McM8M3w",
        "outputId": "a8d62d0c-b4d0-456f-ce08-d9e39a16d46b"
      },
      "source": [
        "# Building the two lists for visualization \n",
        "models = ['Linear Regression', 'Ridge Regression', 'Lasso Regression'] \n",
        "scores = [linearModel.score(X_test, y_test), \n",
        "\t\tridgeModelChosen.score(X_test, y_test), \n",
        "\t\tlassoModelChosen.score(X_test, y_test)] \n",
        "\n",
        "# Building the dictionary to compare the scores \n",
        "mapping = {} \n",
        "mapping['Linear Regreesion'] = linearModel.score(X_test, y_test) \n",
        "mapping['Ridge Regreesion'] = ridgeModelChosen.score(X_test, y_test) \n",
        "mapping['Lasso Regression'] = lassoModelChosen.score(X_test, y_test) \n",
        "\n",
        "# Printing the scores for different models \n",
        "for key, val in mapping.items(): \n",
        "\tprint(str(key)+' : '+str(val)) \n"
      ],
      "execution_count": null,
      "outputs": [
        {
          "output_type": "stream",
          "text": [
            "Linear Regreesion : 0.6394356839702168\n",
            "Ridge Regreesion : 0.6595529000248797\n",
            "Lasso Regression : 0.6396786729454891\n"
          ],
          "name": "stdout"
        }
      ]
    },
    {
      "cell_type": "code",
      "metadata": {
        "colab": {
          "base_uri": "https://localhost:8080/",
          "height": 279
        },
        "id": "8agPPRkJ8OUy",
        "outputId": "e3b031f7-927f-4ea1-aa6d-f635a5ac150b"
      },
      "source": [
        "# Plotting the scores \n",
        "plt.bar(models, scores) \n",
        "plt.xlabel('Regression Models') \n",
        "plt.ylabel('Score') \n",
        "plt.show() \n"
      ],
      "execution_count": null,
      "outputs": [
        {
          "output_type": "display_data",
          "data": {
            "image/png": "[encoded data removed]",
            "text/plain": [
              "<Figure size 432x288 with 1 Axes>"
            ]
          },
          "metadata": {
            "tags": [],
            "needs_background": "light"
          }
        }
      ]
    },
    {
      "cell_type": "code",
      "metadata": {
        "id": "doh0AZhq8h31"
      },
      "source": [
        ""
      ],
      "execution_count": null,
      "outputs": []
    }
  ]
}